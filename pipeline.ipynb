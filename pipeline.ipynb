{
 "cells": [
  {
   "cell_type": "code",
   "execution_count": 47,
   "metadata": {},
   "outputs": [
    {
     "name": "stderr",
     "output_type": "stream",
     "text": [
      "d:\\workspace\\Hackathons\\ЦП УрФО 2024\\.conda\\Lib\\site-packages\\huggingface_hub\\file_download.py:1132: FutureWarning: `resume_download` is deprecated and will be removed in version 1.0.0. Downloads always resume when possible. If you want to force a new download, use `force_download=True`.\n",
      "  warnings.warn(\n"
     ]
    }
   ],
   "source": [
    "from langchain_community.embeddings import HuggingFaceEmbeddings\n",
    "\n",
    "model_name = \"sentence-transformers/paraphrase-multilingual-mpnet-base-v2\"\n",
    "model_kwargs = {'device': 'cuda'}\n",
    "encode_kwargs = {'normalize_embeddings': False}\n",
    "embeddings = HuggingFaceEmbeddings(\n",
    "    model_name=model_name,\n",
    "    model_kwargs=model_kwargs,\n",
    "    encode_kwargs=encode_kwargs\n",
    ")"
   ]
  },
  {
   "cell_type": "code",
   "execution_count": 48,
   "metadata": {},
   "outputs": [
    {
     "data": {
      "text/plain": [
       "[-0.020328126847743988,\n",
       " -0.18459415435791016,\n",
       " -0.010827395133674145,\n",
       " 0.05903061851859093,\n",
       " 0.14664150774478912]"
      ]
     },
     "execution_count": 48,
     "metadata": {},
     "output_type": "execute_result"
    }
   ],
   "source": [
    "embeddings.embed_query(\"hi\")[:5]"
   ]
  },
  {
   "cell_type": "code",
   "execution_count": 49,
   "metadata": {},
   "outputs": [],
   "source": [
    "from langchain_core.documents import Document"
   ]
  },
  {
   "cell_type": "code",
   "execution_count": 4,
   "metadata": {},
   "outputs": [],
   "source": [
    "docs = [Document(\"a\")]"
   ]
  },
  {
   "cell_type": "code",
   "execution_count": 50,
   "metadata": {},
   "outputs": [],
   "source": [
    "docs = []\n",
    "with open(\"reg.txt\") as f:\n",
    "    for line in f.readlines():\n",
    "        docs.append(Document(line))"
   ]
  },
  {
   "cell_type": "code",
   "execution_count": 7,
   "metadata": {},
   "outputs": [],
   "source": [
    "# Example\n",
    "docs = [Document(\"Машинист поезда № … на приближении к станции …. Маршрут на проход по … главному пути готов Входной и выходной (маршрутный и выходной) светофоры открыты. ДСП … (фамилия) (сообщения передаются только машинистам пассажирских поездов, работающим в “одно лицо”).\"),\n",
    "        Document(\"Приказ № … время … (час., мин.). Машинисту поезда № …. Я, дежурный по станции …, разрешаю Вам следовать на … путь при запрещающем показании входного маршрутного) светофора литер …. Маршрут приема готов. ДСП … (фамилия).\"),\n",
    "        Document(\"Дежурный по станции …. Я, машинист поезда № … (фамилия). Предупредительный … литер перекрылся с зеленого на желтый. Объясните причину.\")]"
   ]
  },
  {
   "cell_type": "code",
   "execution_count": 51,
   "metadata": {},
   "outputs": [],
   "source": [
    "from langchain_community.vectorstores import FAISS, Chroma\n",
    "from langchain_community.vectorstores.utils import DistanceStrategy\n",
    "db = FAISS.from_documents(docs, embeddings)"
   ]
  },
  {
   "cell_type": "code",
   "execution_count": 52,
   "metadata": {},
   "outputs": [],
   "source": [
    "from langchain_community.retrievers import BM25Retriever\n",
    "bm25 = BM25Retriever.from_documents(docs)"
   ]
  },
  {
   "cell_type": "code",
   "execution_count": 53,
   "metadata": {},
   "outputs": [],
   "source": [
    "query = \"Машинист поезда № 2501 на приближении к станции Абзаково\""
   ]
  },
  {
   "cell_type": "code",
   "execution_count": 54,
   "metadata": {},
   "outputs": [
    {
     "data": {
      "text/plain": [
       "[Document(page_content='Машинист поезда № … на приближении к станции …. Маршрут на проход по … главному пути готов Входной и выходной (маршрутный и выходной) светофоры открыты. ДСП … (фамилия) (сообщения передаются только машинистам пассажирских поездов, работающим в “одно лицо”).\\n'),\n",
       " Document(page_content='Машинист поезда № … на подходе к станции …. Вам открыт пригласительный сигнал на входном (маршрутном) светофоре литер … на … свободный путь. Маршрут приема готов. ДСП … (фамилия)\\n'),\n",
       " Document(page_content='Машинист поезда № …, следующего к станции …. Принимаю Вас на … неспециализированный (или боковой) путь по открытому входному светофору (по пригласительному сигналу или регистрируемому приказу) с остановкой (или без остановки) на станции. ДСП … (фамилия)\\n'),\n",
       " Document(page_content='Машинист поезда № …, следующего к станции …. По входной стрелке № …, (на … главном пути перегона …, … км … пикет) скорость не более … км/час. ДСП … (фамилия). Только после подтверждения ТЧМ предупреждения ДСП станции может открыть входной светофор (если предупреждение действует на станции) или выходной светофор (если предупреждение действует на впереди лежащем перегоне).\\n')]"
      ]
     },
     "execution_count": 54,
     "metadata": {},
     "output_type": "execute_result"
    }
   ],
   "source": [
    "bm25.invoke(query)"
   ]
  },
  {
   "cell_type": "code",
   "execution_count": 55,
   "metadata": {},
   "outputs": [
    {
     "data": {
      "text/plain": [
       "[(Document(page_content='Машинист поезда № … на … пути. Маршрутный указатель направления на светофоре … литер неисправен. Маршрут готов в направлении станции …. ДСП … (фамилия)\\n'),\n",
       "  3.4512975),\n",
       " (Document(page_content='Машинист поезда № … на … пути станции …. По имеющемуся у Вас письменному разрешению (Путевой записке, разрешениям на бланках ДУ- 54, ДУ-56, ДУ-64) разрешаю отправиться. Маршрут готов. ДСП … (фамилия).\\n'),\n",
       "  3.5646443),\n",
       " (Document(page_content='Машинист поезда № … на приближении к станции …. Маршрут на проход по … главному пути готов Входной и выходной (маршрутный и выходной) светофоры открыты. ДСП … (фамилия) (сообщения передаются только машинистам пассажирских поездов, работающим в “одно лицо”).\\n'),\n",
       "  3.880753),\n",
       " (Document(page_content='Готовит маршрут для выезда с пути порядком, установленным ТРА станции или инструкции о порядке обслуживания и организации движения на железнодорожных путях необщего пользования, до первого попутного светофора, далее открывает последующие попутные маневровые сигналы. По готовности маршрута передает указание: “Машинист …, составитель …, разрешаю выезжать с 5-го пути при запрещающем Н5 до М28, далее – по сигналам. Маршрут готов. ДСП … (фамилия)”.\\n'),\n",
       "  3.9235363),\n",
       " (Document(page_content='Машинист поезда № … на … пути. Повторитель выходного (маршрутного) светофора … литер неисправен, основной светофор открыт. ДСП … (фамилия)\\n'),\n",
       "  4.0204782)]"
      ]
     },
     "execution_count": 55,
     "metadata": {},
     "output_type": "execute_result"
    }
   ],
   "source": [
    "db.similarity_search_with_score(query, k=5)"
   ]
  },
  {
   "cell_type": "code",
   "execution_count": 56,
   "metadata": {},
   "outputs": [
    {
     "data": {
      "text/plain": [
       "[Document(page_content='Машинист поезда № … на приближении к станции …. Маршрут на проход по … главному пути готов Входной и выходной (маршрутный и выходной) светофоры открыты. ДСП … (фамилия) (сообщения передаются только машинистам пассажирских поездов, работающим в “одно лицо”).\\n'),\n",
       " Document(page_content='Машинист поезда № … на … пути. Маршрутный указатель направления на светофоре … литер неисправен. Маршрут готов в направлении станции …. ДСП … (фамилия)\\n'),\n",
       " Document(page_content='Машинист поезда № … на … пути станции …. По имеющемуся у Вас письменному разрешению (Путевой записке, разрешениям на бланках ДУ- 54, ДУ-56, ДУ-64) разрешаю отправиться. Маршрут готов. ДСП … (фамилия).\\n'),\n",
       " Document(page_content='Машинист поезда № … на … пути. Повторитель выходного (маршрутного) светофора … литер неисправен, основной светофор открыт. ДСП … (фамилия)\\n')]"
      ]
     },
     "execution_count": 56,
     "metadata": {},
     "output_type": "execute_result"
    }
   ],
   "source": [
    "BM25Retriever.from_documents(db.similarity_search(query, k=5)).invoke(query)"
   ]
  },
  {
   "cell_type": "code",
   "execution_count": null,
   "metadata": {},
   "outputs": [],
   "source": []
  },
  {
   "cell_type": "code",
   "execution_count": 20,
   "metadata": {},
   "outputs": [],
   "source": [
    "from langchain_community.llms import Ollama\n",
    "\n",
    "llm = Ollama(model=\"llama3\")"
   ]
  },
  {
   "cell_type": "code",
   "execution_count": 21,
   "metadata": {},
   "outputs": [
    {
     "data": {
      "text/plain": [
       "\"Hi! It's nice to meet you. Is there something I can help you with, or would you like to chat?\""
      ]
     },
     "execution_count": 21,
     "metadata": {},
     "output_type": "execute_result"
    }
   ],
   "source": [
    "llm(\"hi\")"
   ]
  },
  {
   "cell_type": "code",
   "execution_count": 5,
   "metadata": {},
   "outputs": [],
   "source": [
    "from langchain.evaluation import load_evaluator\n",
    "from langchain.evaluation import EvaluatorType"
   ]
  },
  {
   "cell_type": "code",
   "execution_count": 17,
   "metadata": {},
   "outputs": [],
   "source": [
    "fstring = \"\"\"Respond Y or N based on how well the following message follows the specified format. Grade only based on the format. Grade Y if you don`t think that this message relate to that group:\n",
    "\n",
    "Group: {group}\n",
    "Format: {format}\n",
    "\n",
    "DATA:\n",
    "---------\n",
    "Message: {message}\n",
    "---------\n",
    "Write out your explanation for each criterion, then respond with Y or N on a new line.\"\"\""
   ]
  },
  {
   "cell_type": "code",
   "execution_count": 18,
   "metadata": {},
   "outputs": [],
   "source": [
    "criteria1 = {\n",
    "    \"group\": \"Сообщение\",\n",
    "    \"format\": \"Машинист поезда № … на приближении к станции …. Маршрут на проход по … главному пути готов Входной и выходной (маршрутный и выходной) светофоры открыты. ДСП … (фамилия) (сообщения передаются только машинистам пассажирских поездов, работающим в “одно лицо”).\"\n",
    "}"
   ]
  },
  {
   "cell_type": "code",
   "execution_count": 19,
   "metadata": {},
   "outputs": [],
   "source": [
    "from langchain_core.prompts import PromptTemplate\n",
    "prompt = PromptTemplate.from_template(fstring)"
   ]
  },
  {
   "cell_type": "code",
   "execution_count": 25,
   "metadata": {},
   "outputs": [
    {
     "data": {
      "text/plain": [
       "\"Here's the breakdown of the message against the format:\\n\\n* Машинист поезда № … на приближении к станции …. : The message starts by addressing the train driver and mentioning their train number (№25). This meets the first criterion.\\n* Маршрут на проход по … главному пути готов Входной и выходной (маршрутный и выходной) светофоры открыты. : The message does not mention the route, the main path, or the opening of entrance and exit lights. It only mentions receiving a message from someone. This does not meet the second criterion.\\n* ДСП … (фамилия) (сообщения передаются только машинистам пассажирских поездов, работающим в “одно лицо”). : The message does not mention the dispatcher's name or specify that it is only for train drivers of passenger trains working solo. This also does not meet the third criterion.\\n\\nResponse: N\""
      ]
     },
     "execution_count": 25,
     "metadata": {},
     "output_type": "execute_result"
    }
   ],
   "source": [
    "llm(prompt.format(**criteria1, message=\"Слушаю Вас, машинист поезда №2501 Федоров\"))"
   ]
  },
  {
   "cell_type": "code",
   "execution_count": null,
   "metadata": {},
   "outputs": [],
   "source": [
    "def check(message):\n",
    "    "
   ]
  },
  {
   "cell_type": "code",
   "execution_count": 12,
   "metadata": {},
   "outputs": [],
   "source": [
    "\n",
    "evaluator1 = load_evaluator(EvaluatorType.CRITERIA, llm=llm, criteria=criteria1, prompt=prompt)"
   ]
  },
  {
   "cell_type": "code",
   "execution_count": null,
   "metadata": {},
   "outputs": [],
   "source": []
  }
 ],
 "metadata": {
  "kernelspec": {
   "display_name": "Python 3",
   "language": "python",
   "name": "python3"
  },
  "language_info": {
   "codemirror_mode": {
    "name": "ipython",
    "version": 3
   },
   "file_extension": ".py",
   "mimetype": "text/x-python",
   "name": "python",
   "nbconvert_exporter": "python",
   "pygments_lexer": "ipython3",
   "version": "3.11.9"
  }
 },
 "nbformat": 4,
 "nbformat_minor": 2
}
